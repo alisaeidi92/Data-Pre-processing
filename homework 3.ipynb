{
 "cells": [
  {
   "cell_type": "code",
   "execution_count": 1,
   "metadata": {},
   "outputs": [],
   "source": [
    "import pandas as pd\n",
    "import numpy as np\n",
    "import seaborn as sns\n",
    "import matplotlib.pyplot as plt\n"
   ]
  },
  {
   "cell_type": "code",
   "execution_count": 63,
   "metadata": {},
   "outputs": [],
   "source": [
    "articles = pd.read_csv('estimated-article-influence-scores-2015.csv')\n",
    "journals = pd.read_csv('journals_out.csv')\n",
    "price = pd.read_csv('price.csv')"
   ]
  },
  {
   "cell_type": "code",
   "execution_count": 3,
   "metadata": {},
   "outputs": [
    {
     "name": "stdout",
     "output_type": "stream",
     "text": [
      "<class 'pandas.core.frame.DataFrame'>\n",
      "RangeIndex: 3615 entries, 0 to 3614\n",
      "Data columns (total 8 columns):\n",
      " #   Column               Non-Null Count  Dtype  \n",
      "---  ------               --------------  -----  \n",
      " 0   indx                 3615 non-null   int64  \n",
      " 1   journal_name         3615 non-null   object \n",
      " 2   issn                 3615 non-null   object \n",
      " 3   citation_count_sum   3603 non-null   float64\n",
      " 4   paper_count_sum      3603 non-null   float64\n",
      " 5   avg_cites_per_paper  3603 non-null   float64\n",
      " 6   proj_ai              3603 non-null   float64\n",
      " 7   proj_ai_year         3615 non-null   int64  \n",
      "dtypes: float64(4), int64(2), object(2)\n",
      "memory usage: 226.1+ KB\n"
     ]
    }
   ],
   "source": [
    "articles.info()"
   ]
  },
  {
   "cell_type": "markdown",
   "metadata": {},
   "source": [
    "# Cleaning Articles Data"
   ]
  },
  {
   "cell_type": "code",
   "execution_count": 6,
   "metadata": {},
   "outputs": [],
   "source": [
    "# Dropping indx which is an extra column\n",
    "# Dropping issn which is a paper ID and has no meaning since we already have the paper name"
   ]
  },
  {
   "cell_type": "code",
   "execution_count": 7,
   "metadata": {},
   "outputs": [],
   "source": [
    "articles = articles.drop(['indx','issn'], axis = 1)"
   ]
  },
  {
   "cell_type": "code",
   "execution_count": 8,
   "metadata": {},
   "outputs": [
    {
     "data": {
      "text/html": [
       "<div>\n",
       "<style scoped>\n",
       "    .dataframe tbody tr th:only-of-type {\n",
       "        vertical-align: middle;\n",
       "    }\n",
       "\n",
       "    .dataframe tbody tr th {\n",
       "        vertical-align: top;\n",
       "    }\n",
       "\n",
       "    .dataframe thead th {\n",
       "        text-align: right;\n",
       "    }\n",
       "</style>\n",
       "<table border=\"1\" class=\"dataframe\">\n",
       "  <thead>\n",
       "    <tr style=\"text-align: right;\">\n",
       "      <th></th>\n",
       "      <th>citation_count_sum</th>\n",
       "      <th>paper_count_sum</th>\n",
       "      <th>avg_cites_per_paper</th>\n",
       "      <th>proj_ai</th>\n",
       "      <th>proj_ai_year</th>\n",
       "    </tr>\n",
       "  </thead>\n",
       "  <tbody>\n",
       "    <tr>\n",
       "      <th>count</th>\n",
       "      <td>3603.000000</td>\n",
       "      <td>3603.000000</td>\n",
       "      <td>3603.000000</td>\n",
       "      <td>3603.000000</td>\n",
       "      <td>3615.0</td>\n",
       "    </tr>\n",
       "    <tr>\n",
       "      <th>mean</th>\n",
       "      <td>1446.713850</td>\n",
       "      <td>509.671107</td>\n",
       "      <td>2.118970</td>\n",
       "      <td>0.516554</td>\n",
       "      <td>2015.0</td>\n",
       "    </tr>\n",
       "    <tr>\n",
       "      <th>std</th>\n",
       "      <td>7996.860704</td>\n",
       "      <td>1923.905084</td>\n",
       "      <td>1.687837</td>\n",
       "      <td>0.572554</td>\n",
       "      <td>0.0</td>\n",
       "    </tr>\n",
       "    <tr>\n",
       "      <th>min</th>\n",
       "      <td>0.000000</td>\n",
       "      <td>1.000000</td>\n",
       "      <td>0.000000</td>\n",
       "      <td>0.000000</td>\n",
       "      <td>2015.0</td>\n",
       "    </tr>\n",
       "    <tr>\n",
       "      <th>25%</th>\n",
       "      <td>150.000000</td>\n",
       "      <td>107.000000</td>\n",
       "      <td>1.054941</td>\n",
       "      <td>0.199000</td>\n",
       "      <td>2015.0</td>\n",
       "    </tr>\n",
       "    <tr>\n",
       "      <th>50%</th>\n",
       "      <td>421.000000</td>\n",
       "      <td>239.000000</td>\n",
       "      <td>1.717822</td>\n",
       "      <td>0.367000</td>\n",
       "      <td>2015.0</td>\n",
       "    </tr>\n",
       "    <tr>\n",
       "      <th>75%</th>\n",
       "      <td>1097.000000</td>\n",
       "      <td>522.000000</td>\n",
       "      <td>2.710734</td>\n",
       "      <td>0.651500</td>\n",
       "      <td>2015.0</td>\n",
       "    </tr>\n",
       "    <tr>\n",
       "      <th>max</th>\n",
       "      <td>426949.000000</td>\n",
       "      <td>104705.000000</td>\n",
       "      <td>26.318824</td>\n",
       "      <td>11.367000</td>\n",
       "      <td>2015.0</td>\n",
       "    </tr>\n",
       "  </tbody>\n",
       "</table>\n",
       "</div>"
      ],
      "text/plain": [
       "       citation_count_sum  paper_count_sum  avg_cites_per_paper      proj_ai  \\\n",
       "count         3603.000000      3603.000000          3603.000000  3603.000000   \n",
       "mean          1446.713850       509.671107             2.118970     0.516554   \n",
       "std           7996.860704      1923.905084             1.687837     0.572554   \n",
       "min              0.000000         1.000000             0.000000     0.000000   \n",
       "25%            150.000000       107.000000             1.054941     0.199000   \n",
       "50%            421.000000       239.000000             1.717822     0.367000   \n",
       "75%           1097.000000       522.000000             2.710734     0.651500   \n",
       "max         426949.000000    104705.000000            26.318824    11.367000   \n",
       "\n",
       "       proj_ai_year  \n",
       "count        3615.0  \n",
       "mean         2015.0  \n",
       "std             0.0  \n",
       "min          2015.0  \n",
       "25%          2015.0  \n",
       "50%          2015.0  \n",
       "75%          2015.0  \n",
       "max          2015.0  "
      ]
     },
     "execution_count": 8,
     "metadata": {},
     "output_type": "execute_result"
    }
   ],
   "source": [
    "articles.describe()"
   ]
  },
  {
   "cell_type": "code",
   "execution_count": 9,
   "metadata": {
    "scrolled": true
   },
   "outputs": [
    {
     "data": {
      "text/html": [
       "<div>\n",
       "<style scoped>\n",
       "    .dataframe tbody tr th:only-of-type {\n",
       "        vertical-align: middle;\n",
       "    }\n",
       "\n",
       "    .dataframe tbody tr th {\n",
       "        vertical-align: top;\n",
       "    }\n",
       "\n",
       "    .dataframe thead th {\n",
       "        text-align: right;\n",
       "    }\n",
       "</style>\n",
       "<table border=\"1\" class=\"dataframe\">\n",
       "  <thead>\n",
       "    <tr style=\"text-align: right;\">\n",
       "      <th></th>\n",
       "      <th>journal_name</th>\n",
       "      <th>citation_count_sum</th>\n",
       "      <th>paper_count_sum</th>\n",
       "      <th>avg_cites_per_paper</th>\n",
       "      <th>proj_ai</th>\n",
       "      <th>proj_ai_year</th>\n",
       "    </tr>\n",
       "  </thead>\n",
       "  <tbody>\n",
       "    <tr>\n",
       "      <th>0</th>\n",
       "      <td>3d research</td>\n",
       "      <td>151.0</td>\n",
       "      <td>106.0</td>\n",
       "      <td>1.424528</td>\n",
       "      <td>0.290</td>\n",
       "      <td>2015</td>\n",
       "    </tr>\n",
       "    <tr>\n",
       "      <th>1</th>\n",
       "      <td>aaps pharmscitech</td>\n",
       "      <td>2208.0</td>\n",
       "      <td>801.0</td>\n",
       "      <td>2.756554</td>\n",
       "      <td>0.665</td>\n",
       "      <td>2015</td>\n",
       "    </tr>\n",
       "    <tr>\n",
       "      <th>2</th>\n",
       "      <td>abstract and applied analysis</td>\n",
       "      <td>3005.0</td>\n",
       "      <td>2923.0</td>\n",
       "      <td>1.028053</td>\n",
       "      <td>0.192</td>\n",
       "      <td>2015</td>\n",
       "    </tr>\n",
       "    <tr>\n",
       "      <th>3</th>\n",
       "      <td>academic psychiatry</td>\n",
       "      <td>537.0</td>\n",
       "      <td>490.0</td>\n",
       "      <td>1.095918</td>\n",
       "      <td>0.208</td>\n",
       "      <td>2015</td>\n",
       "    </tr>\n",
       "    <tr>\n",
       "      <th>4</th>\n",
       "      <td>academic questions</td>\n",
       "      <td>40.0</td>\n",
       "      <td>67.0</td>\n",
       "      <td>0.597015</td>\n",
       "      <td>0.097</td>\n",
       "      <td>2015</td>\n",
       "    </tr>\n",
       "  </tbody>\n",
       "</table>\n",
       "</div>"
      ],
      "text/plain": [
       "                    journal_name  citation_count_sum  paper_count_sum  \\\n",
       "0                    3d research               151.0            106.0   \n",
       "1              aaps pharmscitech              2208.0            801.0   \n",
       "2  abstract and applied analysis              3005.0           2923.0   \n",
       "3            academic psychiatry               537.0            490.0   \n",
       "4             academic questions                40.0             67.0   \n",
       "\n",
       "   avg_cites_per_paper  proj_ai  proj_ai_year  \n",
       "0             1.424528    0.290          2015  \n",
       "1             2.756554    0.665          2015  \n",
       "2             1.028053    0.192          2015  \n",
       "3             1.095918    0.208          2015  \n",
       "4             0.597015    0.097          2015  "
      ]
     },
     "execution_count": 9,
     "metadata": {},
     "output_type": "execute_result"
    }
   ],
   "source": [
    "articles.head(5)"
   ]
  },
  {
   "cell_type": "code",
   "execution_count": 10,
   "metadata": {},
   "outputs": [],
   "source": [
    "cols = ['citation_count_sum', 'paper_count_sum',\n",
    "       'avg_cites_per_paper', 'proj_ai']"
   ]
  },
  {
   "cell_type": "code",
   "execution_count": 11,
   "metadata": {},
   "outputs": [
    {
     "data": {
      "image/png": "[encoded data removed]",
      "text/plain": [
       "<Figure size 432x288 with 4 Axes>"
      ]
     },
     "metadata": {
      "needs_background": "light"
     },
     "output_type": "display_data"
    },
    {
     "data": {
      "image/png": "[encoded data removed]",
      "text/plain": [
       "<Figure size 1152x720 with 4 Axes>"
      ]
     },
     "metadata": {
      "needs_background": "light"
     },
     "output_type": "display_data"
    }
   ],
   "source": [
    "plt.subplots(2, 2)\n",
    "plt.figure(figsize=(16,10))\n",
    "\n",
    "for i,col in enumerate(cols):\n",
    "    plt.subplot(int('22'+str(i+1)))\n",
    "    sns.boxplot(x=articles[col])"
   ]
  },
  {
   "cell_type": "markdown",
   "metadata": {},
   "source": [
    "### Dropping the outlier"
   ]
  },
  {
   "cell_type": "code",
   "execution_count": 12,
   "metadata": {},
   "outputs": [
    {
     "data": {
      "text/html": [
       "<div>\n",
       "<style scoped>\n",
       "    .dataframe tbody tr th:only-of-type {\n",
       "        vertical-align: middle;\n",
       "    }\n",
       "\n",
       "    .dataframe tbody tr th {\n",
       "        vertical-align: top;\n",
       "    }\n",
       "\n",
       "    .dataframe thead th {\n",
       "        text-align: right;\n",
       "    }\n",
       "</style>\n",
       "<table border=\"1\" class=\"dataframe\">\n",
       "  <thead>\n",
       "    <tr style=\"text-align: right;\">\n",
       "      <th></th>\n",
       "      <th>journal_name</th>\n",
       "      <th>citation_count_sum</th>\n",
       "      <th>paper_count_sum</th>\n",
       "      <th>avg_cites_per_paper</th>\n",
       "      <th>proj_ai</th>\n",
       "      <th>proj_ai_year</th>\n",
       "    </tr>\n",
       "  </thead>\n",
       "  <tbody>\n",
       "    <tr>\n",
       "      <th>2924</th>\n",
       "      <td>plos one</td>\n",
       "      <td>426949.0</td>\n",
       "      <td>104705.0</td>\n",
       "      <td>4.077637</td>\n",
       "      <td>1.089</td>\n",
       "      <td>2015</td>\n",
       "    </tr>\n",
       "  </tbody>\n",
       "</table>\n",
       "</div>"
      ],
      "text/plain": [
       "     journal_name  citation_count_sum  paper_count_sum  avg_cites_per_paper  \\\n",
       "2924     plos one            426949.0         104705.0             4.077637   \n",
       "\n",
       "      proj_ai  proj_ai_year  \n",
       "2924    1.089          2015  "
      ]
     },
     "execution_count": 12,
     "metadata": {},
     "output_type": "execute_result"
    }
   ],
   "source": [
    "articles[articles['citation_count_sum'] == max(articles['citation_count_sum'])]"
   ]
  },
  {
   "cell_type": "code",
   "execution_count": 13,
   "metadata": {},
   "outputs": [],
   "source": [
    "articles = articles.drop(2924)"
   ]
  },
  {
   "cell_type": "code",
   "execution_count": 14,
   "metadata": {},
   "outputs": [
    {
     "name": "stdout",
     "output_type": "stream",
     "text": [
      "<class 'pandas.core.frame.DataFrame'>\n",
      "Int64Index: 3614 entries, 0 to 3614\n",
      "Data columns (total 6 columns):\n",
      " #   Column               Non-Null Count  Dtype  \n",
      "---  ------               --------------  -----  \n",
      " 0   journal_name         3614 non-null   object \n",
      " 1   citation_count_sum   3602 non-null   float64\n",
      " 2   paper_count_sum      3602 non-null   float64\n",
      " 3   avg_cites_per_paper  3602 non-null   float64\n",
      " 4   proj_ai              3602 non-null   float64\n",
      " 5   proj_ai_year         3614 non-null   int64  \n",
      "dtypes: float64(4), int64(1), object(1)\n",
      "memory usage: 197.6+ KB\n"
     ]
    }
   ],
   "source": [
    "articles.info()"
   ]
  },
  {
   "cell_type": "code",
   "execution_count": 15,
   "metadata": {},
   "outputs": [
    {
     "data": {
      "image/png": "[encoded data removed]",
      "text/plain": [
       "<Figure size 432x288 with 4 Axes>"
      ]
     },
     "metadata": {
      "needs_background": "light"
     },
     "output_type": "display_data"
    },
    {
     "data": {
      "image/png": "[encoded data removed]",
      "text/plain": [
       "<Figure size 1152x720 with 4 Axes>"
      ]
     },
     "metadata": {
      "needs_background": "light"
     },
     "output_type": "display_data"
    }
   ],
   "source": [
    "plt.subplots(2, 2)\n",
    "plt.figure(figsize=(16,10))\n",
    "\n",
    "for i,col in enumerate(cols):\n",
    "    plt.subplot(int('22'+str(i+1)))\n",
    "    sns.boxplot(x=articles[col])"
   ]
  },
  {
   "cell_type": "markdown",
   "metadata": {},
   "source": [
    "### Dropping more outliers"
   ]
  },
  {
   "cell_type": "code",
   "execution_count": 16,
   "metadata": {},
   "outputs": [],
   "source": [
    "for i,num in enumerate(articles['citation_count_sum']):\n",
    "    if num>= 1000:\n",
    "        articles.drop((articles[articles['citation_count_sum'] == num]).index, inplace= True)"
   ]
  },
  {
   "cell_type": "code",
   "execution_count": 17,
   "metadata": {},
   "outputs": [],
   "source": [
    "for i,num in enumerate(articles['avg_cites_per_paper']):\n",
    "    if num>= 3.9:\n",
    "        articles.drop((articles[articles['avg_cites_per_paper'] == num]).index, inplace= True)"
   ]
  },
  {
   "cell_type": "code",
   "execution_count": 18,
   "metadata": {},
   "outputs": [],
   "source": [
    "for i,num in enumerate(articles['proj_ai']):\n",
    "    if num>= 0.88:\n",
    "        articles.drop((articles[articles['proj_ai'] == num]).index, inplace= True)"
   ]
  },
  {
   "cell_type": "code",
   "execution_count": 19,
   "metadata": {},
   "outputs": [],
   "source": [
    "for i,num in enumerate(articles['paper_count_sum']):\n",
    "    if num>= 550:\n",
    "        articles.drop((articles[articles['paper_count_sum'] == num]).index, inplace= True)"
   ]
  },
  {
   "cell_type": "code",
   "execution_count": 20,
   "metadata": {},
   "outputs": [
    {
     "data": {
      "image/png": "[encoded data removed]",
      "text/plain": [
       "<Figure size 432x288 with 4 Axes>"
      ]
     },
     "metadata": {
      "needs_background": "light"
     },
     "output_type": "display_data"
    },
    {
     "data": {
      "image/png": "[encoded data removed]",
      "text/plain": [
       "<Figure size 1152x720 with 4 Axes>"
      ]
     },
     "metadata": {
      "needs_background": "light"
     },
     "output_type": "display_data"
    }
   ],
   "source": [
    "plt.subplots(2, 2)\n",
    "plt.figure(figsize=(16,10))\n",
    "\n",
    "for i,col in enumerate(cols):\n",
    "    plt.subplot(int('22'+str(i+1)))\n",
    "    sns.boxplot(x=articles[col])"
   ]
  },
  {
   "cell_type": "code",
   "execution_count": 21,
   "metadata": {},
   "outputs": [
    {
     "name": "stdout",
     "output_type": "stream",
     "text": [
      "<class 'pandas.core.frame.DataFrame'>\n",
      "Int64Index: 2373 entries, 0 to 3614\n",
      "Data columns (total 6 columns):\n",
      " #   Column               Non-Null Count  Dtype  \n",
      "---  ------               --------------  -----  \n",
      " 0   journal_name         2373 non-null   object \n",
      " 1   citation_count_sum   2361 non-null   float64\n",
      " 2   paper_count_sum      2361 non-null   float64\n",
      " 3   avg_cites_per_paper  2361 non-null   float64\n",
      " 4   proj_ai              2361 non-null   float64\n",
      " 5   proj_ai_year         2373 non-null   int64  \n",
      "dtypes: float64(4), int64(1), object(1)\n",
      "memory usage: 129.8+ KB\n"
     ]
    }
   ],
   "source": [
    "articles.info()"
   ]
  },
  {
   "cell_type": "markdown",
   "metadata": {},
   "source": [
    "### Handling NaN"
   ]
  },
  {
   "cell_type": "code",
   "execution_count": 22,
   "metadata": {},
   "outputs": [],
   "source": [
    "for col in cols:\n",
    "    if articles[col].isna().sum() != 0:\n",
    "        articles[col].fillna(articles[col].mean(), inplace= True)"
   ]
  },
  {
   "cell_type": "markdown",
   "metadata": {},
   "source": [
    "# Cleaned Articles Data"
   ]
  },
  {
   "cell_type": "code",
   "execution_count": 23,
   "metadata": {},
   "outputs": [
    {
     "data": {
      "text/plain": [
       "<Figure size 864x576 with 0 Axes>"
      ]
     },
     "metadata": {},
     "output_type": "display_data"
    },
    {
     "data": {
      "image/png": "[encoded data removed]",
      "text/plain": [
       "<Figure size 720x720 with 20 Axes>"
      ]
     },
     "metadata": {
      "needs_background": "light"
     },
     "output_type": "display_data"
    }
   ],
   "source": [
    "plt.figure(figsize=(12,8))\n",
    "g = sns.PairGrid(data = articles.drop(['proj_ai_year'], axis = 1))\n",
    "\n",
    "g = g.map_upper(sns.scatterplot)\n",
    "g = g.map_lower(sns.kdeplot)\n",
    "g = g.map_diag(plt.hist)\n"
   ]
  },
  {
   "cell_type": "code",
   "execution_count": 24,
   "metadata": {},
   "outputs": [
    {
     "name": "stdout",
     "output_type": "stream",
     "text": [
      "<class 'pandas.core.frame.DataFrame'>\n",
      "Int64Index: 2373 entries, 0 to 3614\n",
      "Data columns (total 6 columns):\n",
      " #   Column               Non-Null Count  Dtype  \n",
      "---  ------               --------------  -----  \n",
      " 0   journal_name         2373 non-null   object \n",
      " 1   citation_count_sum   2373 non-null   float64\n",
      " 2   paper_count_sum      2373 non-null   float64\n",
      " 3   avg_cites_per_paper  2373 non-null   float64\n",
      " 4   proj_ai              2373 non-null   float64\n",
      " 5   proj_ai_year         2373 non-null   int64  \n",
      "dtypes: float64(4), int64(1), object(1)\n",
      "memory usage: 209.8+ KB\n"
     ]
    }
   ],
   "source": [
    "articles.info()"
   ]
  },
  {
   "cell_type": "code",
   "execution_count": 26,
   "metadata": {},
   "outputs": [
    {
     "data": {
      "text/html": [
       "<div>\n",
       "<style scoped>\n",
       "    .dataframe tbody tr th:only-of-type {\n",
       "        vertical-align: middle;\n",
       "    }\n",
       "\n",
       "    .dataframe tbody tr th {\n",
       "        vertical-align: top;\n",
       "    }\n",
       "\n",
       "    .dataframe thead th {\n",
       "        text-align: right;\n",
       "    }\n",
       "</style>\n",
       "<table border=\"1\" class=\"dataframe\">\n",
       "  <thead>\n",
       "    <tr style=\"text-align: right;\">\n",
       "      <th></th>\n",
       "      <th>citation_count_sum</th>\n",
       "      <th>paper_count_sum</th>\n",
       "      <th>avg_cites_per_paper</th>\n",
       "      <th>proj_ai</th>\n",
       "      <th>proj_ai_year</th>\n",
       "    </tr>\n",
       "  </thead>\n",
       "  <tbody>\n",
       "    <tr>\n",
       "      <th>count</th>\n",
       "      <td>2373.000000</td>\n",
       "      <td>2373.000000</td>\n",
       "      <td>2373.000000</td>\n",
       "      <td>2373.000000</td>\n",
       "      <td>2373.0</td>\n",
       "    </tr>\n",
       "    <tr>\n",
       "      <th>mean</th>\n",
       "      <td>286.940703</td>\n",
       "      <td>182.552732</td>\n",
       "      <td>1.483957</td>\n",
       "      <td>0.317896</td>\n",
       "      <td>2015.0</td>\n",
       "    </tr>\n",
       "    <tr>\n",
       "      <th>std</th>\n",
       "      <td>244.065772</td>\n",
       "      <td>128.110795</td>\n",
       "      <td>0.749818</td>\n",
       "      <td>0.197757</td>\n",
       "      <td>0.0</td>\n",
       "    </tr>\n",
       "    <tr>\n",
       "      <th>min</th>\n",
       "      <td>0.000000</td>\n",
       "      <td>1.000000</td>\n",
       "      <td>0.000000</td>\n",
       "      <td>0.000000</td>\n",
       "      <td>2015.0</td>\n",
       "    </tr>\n",
       "    <tr>\n",
       "      <th>25%</th>\n",
       "      <td>87.000000</td>\n",
       "      <td>83.000000</td>\n",
       "      <td>0.902439</td>\n",
       "      <td>0.163000</td>\n",
       "      <td>2015.0</td>\n",
       "    </tr>\n",
       "    <tr>\n",
       "      <th>50%</th>\n",
       "      <td>219.000000</td>\n",
       "      <td>155.000000</td>\n",
       "      <td>1.360465</td>\n",
       "      <td>0.274000</td>\n",
       "      <td>2015.0</td>\n",
       "    </tr>\n",
       "    <tr>\n",
       "      <th>75%</th>\n",
       "      <td>430.000000</td>\n",
       "      <td>261.000000</td>\n",
       "      <td>1.978947</td>\n",
       "      <td>0.438000</td>\n",
       "      <td>2015.0</td>\n",
       "    </tr>\n",
       "    <tr>\n",
       "      <th>max</th>\n",
       "      <td>993.000000</td>\n",
       "      <td>547.000000</td>\n",
       "      <td>3.441176</td>\n",
       "      <td>0.879000</td>\n",
       "      <td>2015.0</td>\n",
       "    </tr>\n",
       "  </tbody>\n",
       "</table>\n",
       "</div>"
      ],
      "text/plain": [
       "       citation_count_sum  paper_count_sum  avg_cites_per_paper      proj_ai  \\\n",
       "count         2373.000000      2373.000000          2373.000000  2373.000000   \n",
       "mean           286.940703       182.552732             1.483957     0.317896   \n",
       "std            244.065772       128.110795             0.749818     0.197757   \n",
       "min              0.000000         1.000000             0.000000     0.000000   \n",
       "25%             87.000000        83.000000             0.902439     0.163000   \n",
       "50%            219.000000       155.000000             1.360465     0.274000   \n",
       "75%            430.000000       261.000000             1.978947     0.438000   \n",
       "max            993.000000       547.000000             3.441176     0.879000   \n",
       "\n",
       "       proj_ai_year  \n",
       "count        2373.0  \n",
       "mean         2015.0  \n",
       "std             0.0  \n",
       "min          2015.0  \n",
       "25%          2015.0  \n",
       "50%          2015.0  \n",
       "75%          2015.0  \n",
       "max          2015.0  "
      ]
     },
     "execution_count": 26,
     "metadata": {},
     "output_type": "execute_result"
    }
   ],
   "source": [
    "articles.describe()"
   ]
  },
  {
   "cell_type": "code",
   "execution_count": 25,
   "metadata": {},
   "outputs": [
    {
     "data": {
      "text/html": [
       "<div>\n",
       "<style scoped>\n",
       "    .dataframe tbody tr th:only-of-type {\n",
       "        vertical-align: middle;\n",
       "    }\n",
       "\n",
       "    .dataframe tbody tr th {\n",
       "        vertical-align: top;\n",
       "    }\n",
       "\n",
       "    .dataframe thead th {\n",
       "        text-align: right;\n",
       "    }\n",
       "</style>\n",
       "<table border=\"1\" class=\"dataframe\">\n",
       "  <thead>\n",
       "    <tr style=\"text-align: right;\">\n",
       "      <th></th>\n",
       "      <th>journal_name</th>\n",
       "      <th>citation_count_sum</th>\n",
       "      <th>paper_count_sum</th>\n",
       "      <th>avg_cites_per_paper</th>\n",
       "      <th>proj_ai</th>\n",
       "      <th>proj_ai_year</th>\n",
       "    </tr>\n",
       "  </thead>\n",
       "  <tbody>\n",
       "    <tr>\n",
       "      <th>0</th>\n",
       "      <td>3d research</td>\n",
       "      <td>151.0</td>\n",
       "      <td>106.0</td>\n",
       "      <td>1.424528</td>\n",
       "      <td>0.290</td>\n",
       "      <td>2015</td>\n",
       "    </tr>\n",
       "    <tr>\n",
       "      <th>3</th>\n",
       "      <td>academic psychiatry</td>\n",
       "      <td>537.0</td>\n",
       "      <td>490.0</td>\n",
       "      <td>1.095918</td>\n",
       "      <td>0.208</td>\n",
       "      <td>2015</td>\n",
       "    </tr>\n",
       "    <tr>\n",
       "      <th>4</th>\n",
       "      <td>academic questions</td>\n",
       "      <td>40.0</td>\n",
       "      <td>67.0</td>\n",
       "      <td>0.597015</td>\n",
       "      <td>0.097</td>\n",
       "      <td>2015</td>\n",
       "    </tr>\n",
       "    <tr>\n",
       "      <th>5</th>\n",
       "      <td>accreditation and quality assurance</td>\n",
       "      <td>255.0</td>\n",
       "      <td>331.0</td>\n",
       "      <td>0.770393</td>\n",
       "      <td>0.134</td>\n",
       "      <td>2015</td>\n",
       "    </tr>\n",
       "    <tr>\n",
       "      <th>6</th>\n",
       "      <td>acoustics australia</td>\n",
       "      <td>30.0</td>\n",
       "      <td>25.0</td>\n",
       "      <td>1.200000</td>\n",
       "      <td>0.234</td>\n",
       "      <td>2015</td>\n",
       "    </tr>\n",
       "    <tr>\n",
       "      <th>...</th>\n",
       "      <td>...</td>\n",
       "      <td>...</td>\n",
       "      <td>...</td>\n",
       "      <td>...</td>\n",
       "      <td>...</td>\n",
       "      <td>...</td>\n",
       "    </tr>\n",
       "    <tr>\n",
       "      <th>3610</th>\n",
       "      <td>zoologica poloniae</td>\n",
       "      <td>0.0</td>\n",
       "      <td>10.0</td>\n",
       "      <td>0.000000</td>\n",
       "      <td>0.000</td>\n",
       "      <td>2015</td>\n",
       "    </tr>\n",
       "    <tr>\n",
       "      <th>3611</th>\n",
       "      <td>zoological studies</td>\n",
       "      <td>381.0</td>\n",
       "      <td>290.0</td>\n",
       "      <td>1.313793</td>\n",
       "      <td>0.262</td>\n",
       "      <td>2015</td>\n",
       "    </tr>\n",
       "    <tr>\n",
       "      <th>3612</th>\n",
       "      <td>zoology</td>\n",
       "      <td>472.0</td>\n",
       "      <td>221.0</td>\n",
       "      <td>2.135747</td>\n",
       "      <td>0.483</td>\n",
       "      <td>2015</td>\n",
       "    </tr>\n",
       "    <tr>\n",
       "      <th>3613</th>\n",
       "      <td>zoomorphology</td>\n",
       "      <td>191.0</td>\n",
       "      <td>125.0</td>\n",
       "      <td>1.528000</td>\n",
       "      <td>0.317</td>\n",
       "      <td>2015</td>\n",
       "    </tr>\n",
       "    <tr>\n",
       "      <th>3614</th>\n",
       "      <td>zoosystema</td>\n",
       "      <td>100.0</td>\n",
       "      <td>121.0</td>\n",
       "      <td>0.826446</td>\n",
       "      <td>0.146</td>\n",
       "      <td>2015</td>\n",
       "    </tr>\n",
       "  </tbody>\n",
       "</table>\n",
       "<p>2373 rows × 6 columns</p>\n",
       "</div>"
      ],
      "text/plain": [
       "                             journal_name  citation_count_sum  \\\n",
       "0                             3d research               151.0   \n",
       "3                     academic psychiatry               537.0   \n",
       "4                      academic questions                40.0   \n",
       "5     accreditation and quality assurance               255.0   \n",
       "6                     acoustics australia                30.0   \n",
       "...                                   ...                 ...   \n",
       "3610                   zoologica poloniae                 0.0   \n",
       "3611                   zoological studies               381.0   \n",
       "3612                              zoology               472.0   \n",
       "3613                        zoomorphology               191.0   \n",
       "3614                           zoosystema               100.0   \n",
       "\n",
       "      paper_count_sum  avg_cites_per_paper  proj_ai  proj_ai_year  \n",
       "0               106.0             1.424528    0.290          2015  \n",
       "3               490.0             1.095918    0.208          2015  \n",
       "4                67.0             0.597015    0.097          2015  \n",
       "5               331.0             0.770393    0.134          2015  \n",
       "6                25.0             1.200000    0.234          2015  \n",
       "...               ...                  ...      ...           ...  \n",
       "3610             10.0             0.000000    0.000          2015  \n",
       "3611            290.0             1.313793    0.262          2015  \n",
       "3612            221.0             2.135747    0.483          2015  \n",
       "3613            125.0             1.528000    0.317          2015  \n",
       "3614            121.0             0.826446    0.146          2015  \n",
       "\n",
       "[2373 rows x 6 columns]"
      ]
     },
     "execution_count": 25,
     "metadata": {},
     "output_type": "execute_result"
    }
   ],
   "source": [
    "articles"
   ]
  },
  {
   "cell_type": "code",
   "execution_count": 27,
   "metadata": {},
   "outputs": [
    {
     "data": {
      "image/png": "[encoded data removed]",
      "text/plain": [
       "<Figure size 864x576 with 1 Axes>"
      ]
     },
     "metadata": {
      "needs_background": "light"
     },
     "output_type": "display_data"
    }
   ],
   "source": [
    "plt.figure(figsize=(12,8))\n",
    "f1 = articles['citation_count_sum'].values\n",
    "f2 = articles['paper_count_sum'].values\n",
    "f3 = articles['avg_cites_per_paper'].values\n",
    "f4 = articles['proj_ai'].values\n",
    "X = np.array(list(zip(f1, f2, f3, f4)))\n",
    "plt.scatter(f1, f2, f3, f4, )\n",
    "plt.xlim = (0,550)\n",
    "plt.ylim = (0,1000)"
   ]
  },
  {
   "cell_type": "code",
   "execution_count": null,
   "metadata": {},
   "outputs": [],
   "source": []
  },
  {
   "cell_type": "markdown",
   "metadata": {},
   "source": [
    "# Cleaning Journals"
   ]
  },
  {
   "cell_type": "code",
   "execution_count": 64,
   "metadata": {},
   "outputs": [
    {
     "data": {
      "text/html": [
       "<div>\n",
       "<style scoped>\n",
       "    .dataframe tbody tr th:only-of-type {\n",
       "        vertical-align: middle;\n",
       "    }\n",
       "\n",
       "    .dataframe tbody tr th {\n",
       "        vertical-align: top;\n",
       "    }\n",
       "\n",
       "    .dataframe thead th {\n",
       "        text-align: right;\n",
       "    }\n",
       "</style>\n",
       "<table border=\"1\" class=\"dataframe\">\n",
       "  <thead>\n",
       "    <tr style=\"text-align: right;\">\n",
       "      <th></th>\n",
       "      <th>issn</th>\n",
       "      <th>journal_name</th>\n",
       "      <th>pub_name</th>\n",
       "      <th>is_hybrid</th>\n",
       "      <th>category</th>\n",
       "      <th>url</th>\n",
       "    </tr>\n",
       "  </thead>\n",
       "  <tbody>\n",
       "    <tr>\n",
       "      <th>0</th>\n",
       "      <td>1654-9880</td>\n",
       "      <td>Global Health Action</td>\n",
       "      <td>Co-Action Publishing</td>\n",
       "      <td>0.0</td>\n",
       "      <td>Medicine</td>\n",
       "      <td>NaN</td>\n",
       "    </tr>\n",
       "    <tr>\n",
       "      <th>1</th>\n",
       "      <td>2278-9480</td>\n",
       "      <td>International Journal of Applied Research &amp; St...</td>\n",
       "      <td>NaN</td>\n",
       "      <td>0.0</td>\n",
       "      <td>NaN</td>\n",
       "      <td>NaN</td>\n",
       "    </tr>\n",
       "    <tr>\n",
       "      <th>2</th>\n",
       "      <td>1980-5918</td>\n",
       "      <td>Fisioterapia Em Movimento</td>\n",
       "      <td>Pontif�cia Universidade Cat�lica do Paran�</td>\n",
       "      <td>0.0</td>\n",
       "      <td>Medicine</td>\n",
       "      <td>http://www.pucpr.br/revfisio</td>\n",
       "    </tr>\n",
       "    <tr>\n",
       "      <th>3</th>\n",
       "      <td>1121-760X</td>\n",
       "      <td>European Journal of Histochemistry</td>\n",
       "      <td>NaN</td>\n",
       "      <td>0.0</td>\n",
       "      <td>NaN</td>\n",
       "      <td>NaN</td>\n",
       "    </tr>\n",
       "    <tr>\n",
       "      <th>4</th>\n",
       "      <td>2319-5754</td>\n",
       "      <td>Species</td>\n",
       "      <td>Discovery Publication</td>\n",
       "      <td>0.0</td>\n",
       "      <td>NaN</td>\n",
       "      <td>NaN</td>\n",
       "    </tr>\n",
       "  </tbody>\n",
       "</table>\n",
       "</div>"
      ],
      "text/plain": [
       "        issn                                       journal_name  \\\n",
       "0  1654-9880                               Global Health Action   \n",
       "1  2278-9480  International Journal of Applied Research & St...   \n",
       "2  1980-5918                          Fisioterapia Em Movimento   \n",
       "3  1121-760X                 European Journal of Histochemistry   \n",
       "4  2319-5754                                            Species   \n",
       "\n",
       "                                     pub_name  is_hybrid  category  \\\n",
       "0                        Co-Action Publishing        0.0  Medicine   \n",
       "1                                         NaN        0.0       NaN   \n",
       "2  Pontif�cia Universidade Cat�lica do Paran�        0.0  Medicine   \n",
       "3                                         NaN        0.0       NaN   \n",
       "4                       Discovery Publication        0.0       NaN   \n",
       "\n",
       "                            url  \n",
       "0                           NaN  \n",
       "1                           NaN  \n",
       "2  http://www.pucpr.br/revfisio  \n",
       "3                           NaN  \n",
       "4                           NaN  "
      ]
     },
     "execution_count": 64,
     "metadata": {},
     "output_type": "execute_result"
    }
   ],
   "source": [
    "journals.head(5)"
   ]
  },
  {
   "cell_type": "code",
   "execution_count": 65,
   "metadata": {},
   "outputs": [
    {
     "name": "stdout",
     "output_type": "stream",
     "text": [
      "<class 'pandas.core.frame.DataFrame'>\n",
      "RangeIndex: 105496 entries, 0 to 105495\n",
      "Data columns (total 6 columns):\n",
      " #   Column        Non-Null Count   Dtype  \n",
      "---  ------        --------------   -----  \n",
      " 0   issn          105492 non-null  object \n",
      " 1   journal_name  105492 non-null  object \n",
      " 2   pub_name      93631 non-null   object \n",
      " 3   is_hybrid     105496 non-null  float64\n",
      " 4   category      54743 non-null   object \n",
      " 5   url           51095 non-null   object \n",
      "dtypes: float64(1), object(5)\n",
      "memory usage: 4.8+ MB\n"
     ]
    }
   ],
   "source": [
    "journals.info()"
   ]
  },
  {
   "cell_type": "code",
   "execution_count": 66,
   "metadata": {},
   "outputs": [
    {
     "data": {
      "text/html": [
       "<div>\n",
       "<style scoped>\n",
       "    .dataframe tbody tr th:only-of-type {\n",
       "        vertical-align: middle;\n",
       "    }\n",
       "\n",
       "    .dataframe tbody tr th {\n",
       "        vertical-align: top;\n",
       "    }\n",
       "\n",
       "    .dataframe thead th {\n",
       "        text-align: right;\n",
       "    }\n",
       "</style>\n",
       "<table border=\"1\" class=\"dataframe\">\n",
       "  <thead>\n",
       "    <tr style=\"text-align: right;\">\n",
       "      <th></th>\n",
       "      <th>is_hybrid</th>\n",
       "    </tr>\n",
       "  </thead>\n",
       "  <tbody>\n",
       "    <tr>\n",
       "      <th>count</th>\n",
       "      <td>105496.000000</td>\n",
       "    </tr>\n",
       "    <tr>\n",
       "      <th>mean</th>\n",
       "      <td>0.135673</td>\n",
       "    </tr>\n",
       "    <tr>\n",
       "      <th>std</th>\n",
       "      <td>0.393452</td>\n",
       "    </tr>\n",
       "    <tr>\n",
       "      <th>min</th>\n",
       "      <td>0.000000</td>\n",
       "    </tr>\n",
       "    <tr>\n",
       "      <th>25%</th>\n",
       "      <td>0.000000</td>\n",
       "    </tr>\n",
       "    <tr>\n",
       "      <th>50%</th>\n",
       "      <td>0.000000</td>\n",
       "    </tr>\n",
       "    <tr>\n",
       "      <th>75%</th>\n",
       "      <td>0.000000</td>\n",
       "    </tr>\n",
       "    <tr>\n",
       "      <th>max</th>\n",
       "      <td>10.000000</td>\n",
       "    </tr>\n",
       "  </tbody>\n",
       "</table>\n",
       "</div>"
      ],
      "text/plain": [
       "           is_hybrid\n",
       "count  105496.000000\n",
       "mean        0.135673\n",
       "std         0.393452\n",
       "min         0.000000\n",
       "25%         0.000000\n",
       "50%         0.000000\n",
       "75%         0.000000\n",
       "max        10.000000"
      ]
     },
     "execution_count": 66,
     "metadata": {},
     "output_type": "execute_result"
    }
   ],
   "source": [
    "journals.describe()"
   ]
  },
  {
   "cell_type": "code",
   "execution_count": 67,
   "metadata": {},
   "outputs": [
    {
     "data": {
      "text/plain": [
       "Index(['issn', 'journal_name', 'pub_name', 'is_hybrid', 'category', 'url'], dtype='object')"
      ]
     },
     "execution_count": 67,
     "metadata": {},
     "output_type": "execute_result"
    }
   ],
   "source": [
    "journals.columns"
   ]
  },
  {
   "cell_type": "code",
   "execution_count": 68,
   "metadata": {},
   "outputs": [],
   "source": [
    "# Dropping issn and url columns\n",
    "\n",
    "journals = journals.drop(['issn','url'], axis = 1)"
   ]
  },
  {
   "cell_type": "code",
   "execution_count": 69,
   "metadata": {},
   "outputs": [
    {
     "data": {
      "text/html": [
       "<div>\n",
       "<style scoped>\n",
       "    .dataframe tbody tr th:only-of-type {\n",
       "        vertical-align: middle;\n",
       "    }\n",
       "\n",
       "    .dataframe tbody tr th {\n",
       "        vertical-align: top;\n",
       "    }\n",
       "\n",
       "    .dataframe thead th {\n",
       "        text-align: right;\n",
       "    }\n",
       "</style>\n",
       "<table border=\"1\" class=\"dataframe\">\n",
       "  <thead>\n",
       "    <tr style=\"text-align: right;\">\n",
       "      <th></th>\n",
       "      <th>journal_name</th>\n",
       "      <th>pub_name</th>\n",
       "      <th>is_hybrid</th>\n",
       "      <th>category</th>\n",
       "    </tr>\n",
       "  </thead>\n",
       "  <tbody>\n",
       "    <tr>\n",
       "      <th>105491</th>\n",
       "      <td>Automatica</td>\n",
       "      <td>Elsevier</td>\n",
       "      <td>0.0</td>\n",
       "      <td>RoBOTiCS</td>\n",
       "    </tr>\n",
       "    <tr>\n",
       "      <th>105492</th>\n",
       "      <td>anthropologie58</td>\n",
       "      <td>NaN</td>\n",
       "      <td>0.0</td>\n",
       "      <td>NaN</td>\n",
       "    </tr>\n",
       "    <tr>\n",
       "      <th>105493</th>\n",
       "      <td>anthropologie11</td>\n",
       "      <td>NaN</td>\n",
       "      <td>0.0</td>\n",
       "      <td>NaN</td>\n",
       "    </tr>\n",
       "    <tr>\n",
       "      <th>105494</th>\n",
       "      <td>anthropologie4</td>\n",
       "      <td>NaN</td>\n",
       "      <td>0.0</td>\n",
       "      <td>NaN</td>\n",
       "    </tr>\n",
       "    <tr>\n",
       "      <th>105495</th>\n",
       "      <td>Automatica</td>\n",
       "      <td>Elsevier</td>\n",
       "      <td>0.0</td>\n",
       "      <td>RoBOTiCS</td>\n",
       "    </tr>\n",
       "  </tbody>\n",
       "</table>\n",
       "</div>"
      ],
      "text/plain": [
       "           journal_name  pub_name  is_hybrid  category\n",
       "105491       Automatica  Elsevier        0.0  RoBOTiCS\n",
       "105492  anthropologie58       NaN        0.0       NaN\n",
       "105493  anthropologie11       NaN        0.0       NaN\n",
       "105494   anthropologie4       NaN        0.0       NaN\n",
       "105495       Automatica  Elsevier        0.0  RoBOTiCS"
      ]
     },
     "execution_count": 69,
     "metadata": {},
     "output_type": "execute_result"
    }
   ],
   "source": [
    "journals.tail(5)"
   ]
  },
  {
   "cell_type": "code",
   "execution_count": 70,
   "metadata": {},
   "outputs": [
    {
     "name": "stdout",
     "output_type": "stream",
     "text": [
      "<class 'pandas.core.frame.DataFrame'>\n",
      "RangeIndex: 105496 entries, 0 to 105495\n",
      "Data columns (total 4 columns):\n",
      " #   Column        Non-Null Count   Dtype  \n",
      "---  ------        --------------   -----  \n",
      " 0   journal_name  105492 non-null  object \n",
      " 1   pub_name      93631 non-null   object \n",
      " 2   is_hybrid     105496 non-null  float64\n",
      " 3   category      54743 non-null   object \n",
      "dtypes: float64(1), object(3)\n",
      "memory usage: 3.2+ MB\n"
     ]
    }
   ],
   "source": [
    "journals.info()"
   ]
  },
  {
   "cell_type": "code",
   "execution_count": 71,
   "metadata": {},
   "outputs": [
    {
     "data": {
      "text/plain": [
       "array(['Medicine', nan, 'Science', 'Education', 'Law', 'Agriculture',\n",
       "       'Social Sciences', 'General Works',\n",
       "       'Geography. Anthropology. Recreation',\n",
       "       'History (General) and history of Europe', 'Technology',\n",
       "       'Fine Arts', 'Political science', 'Language and Literature',\n",
       "       'Philosophy. Psychology. Religion',\n",
       "       'Auxiliary sciences of history', 'Veterinary', 'History America',\n",
       "       'STRUCTURAL ENGINEERING', 'Anthropology', 'Agriculture | Science',\n",
       "       'Ecology and Evolution', 'MEDICINE', 'Sports Medicine',\n",
       "       'Literary Studies', 'Naval Science', 'VETERINARY',\n",
       "       'Technology | Philosophy. Psychology. Religion', 'Neuroscience',\n",
       "       'Mathematics', 'ECOLOGY AND EVOLUTION', 'Fine Arts | Science',\n",
       "       'MOLECULAR AND CELL BIOLOGY', 'Molecular and Cell Biology',\n",
       "       'Education | Geography. Anthropology. Recreation',\n",
       "       'Fine Arts | Language and Literature',\n",
       "       'Geography. Anthropology. Recreation | Science',\n",
       "       'Education | Medicine', 'ONCOLOGY',\n",
       "       'Agriculture | Technology | Science', 'Circuits',\n",
       "       'Political science | Social Sciences', 'Music and books on Music',\n",
       "       'Medicine | Science', 'LAW', 'INFECTIOUS DISEASES',\n",
       "       'Military Science | Political science', 'Physics and Chemistry',\n",
       "       'Psychology', 'Ophthalmology', 'Orthopedics',\n",
       "       'PHYSICS AND CHEMISTRY', 'Law | Political science',\n",
       "       'Technology | Medicine | Science', 'ROBOTICS',\n",
       "       'Astronomy and Astrophysics', 'ECONOMICS', 'MATHEMATICS',\n",
       "       'Food Science', 'WOOD PRODUCTS', 'NEPHROLOGY',\n",
       "       'Operations Research', 'PSYCHOLOGY', 'Education | Technology',\n",
       "       'Medicine | Social Sciences', 'Scholarly Publishing', 'Psychiatry',\n",
       "       'Gastroenterology', 'FOOD SCIENCE', 'PSYCHIATRY',\n",
       "       'Agriculture | Medicine', 'Energy', 'Education | Science',\n",
       "       'Education | Language and Literature', 'RADIOLOGY',\n",
       "       'Information & Library Sciences', 'Arts & Humanities',\n",
       "       'Scientific Equipment', 'PLASTIC SURGERY', 'COMPUTER SCIENCE',\n",
       "       'SOCIOLOGY', 'Economics', 'EDUCATION', 'Business & Management',\n",
       "       'Technology | Science', 'ORTHOPEDICS', 'Law | Social Sciences',\n",
       "       'Technology | Medicine', 'Radiology', 'Agriculture | Technology',\n",
       "       'Fine Arts | Geography. Anthropology. Recreation',\n",
       "       'Medicine | Philosophy. Psychology. Religion', 'NEUROSCIENCE',\n",
       "       'Marketing', 'Oncology', 'Plant Biology', 'Military Science',\n",
       "       'GASTROENTEROLOGY', 'Informatics', 'General Science & Technology',\n",
       "       'Languages & Linguistics', 'Law | Medicine',\n",
       "       'Library and Information Science',\n",
       "       'Philosophy. Psychology. Religion | Science', 'Architecture',\n",
       "       'Computer Science', 'UROLOGY', 'PHARMACOLOGY',\n",
       "       'Environmental Health', 'History and Philosophy of Science',\n",
       "       'OPHTHALMOLOGY', 'Information Science', 'RHEUMATOLOGY', 'Nursing',\n",
       "       'Education | Social Sciences', 'SPORTS MEDICINE', 'MARKETING',\n",
       "       'ANTHROPOLOGY', 'Geotechnology',\n",
       "       'Technology | Language and Literature', 'Policy and Law',\n",
       "       'Education | Political science | Social Sciences',\n",
       "       'Agriculture | Geography. Anthropology. Recreation',\n",
       "       'Technology | Social Sciences', 'PLANT BIOLOGY', 'Literature',\n",
       "       'Philosophy. Psychology. Religion | Social Sciences',\n",
       "       'Communication & Media Studies', 'POLITICAL SCIENCE', 'Dynamics',\n",
       "       'Education | Philosophy. Psychology. Religion', 'Linguistics',\n",
       "       'Arts and Humanities', 'Robotics', 'DENTISTRY',\n",
       "       'Language and Literature | Social Sciences',\n",
       "       'History America | Social Sciences', 'Urology', 'Technology | Law',\n",
       "       'Infectious Diseases', 'Dentistry', 'RoBOTiCS'], dtype=object)"
      ]
     },
     "execution_count": 71,
     "metadata": {},
     "output_type": "execute_result"
    }
   ],
   "source": [
    "journals['category'].unique()"
   ]
  },
  {
   "cell_type": "code",
   "execution_count": 72,
   "metadata": {},
   "outputs": [
    {
     "data": {
      "text/plain": [
       "<matplotlib.axes._subplots.AxesSubplot at 0x156145fc5c8>"
      ]
     },
     "execution_count": 72,
     "metadata": {},
     "output_type": "execute_result"
    },
    {
     "data": {
      "image/png": "[encoded data removed]",
      "text/plain": [
       "<Figure size 432x288 with 1 Axes>"
      ]
     },
     "metadata": {
      "needs_background": "light"
     },
     "output_type": "display_data"
    }
   ],
   "source": [
    "sns.countplot(data=journals, x = 'is_hybrid')"
   ]
  },
  {
   "cell_type": "markdown",
   "metadata": {},
   "source": [
    "### Dropping wrong values for is_hybrid"
   ]
  },
  {
   "cell_type": "code",
   "execution_count": 73,
   "metadata": {},
   "outputs": [
    {
     "data": {
      "text/html": [
       "<div>\n",
       "<style scoped>\n",
       "    .dataframe tbody tr th:only-of-type {\n",
       "        vertical-align: middle;\n",
       "    }\n",
       "\n",
       "    .dataframe tbody tr th {\n",
       "        vertical-align: top;\n",
       "    }\n",
       "\n",
       "    .dataframe thead th {\n",
       "        text-align: right;\n",
       "    }\n",
       "</style>\n",
       "<table border=\"1\" class=\"dataframe\">\n",
       "  <thead>\n",
       "    <tr style=\"text-align: right;\">\n",
       "      <th></th>\n",
       "      <th>journal_name</th>\n",
       "      <th>pub_name</th>\n",
       "      <th>is_hybrid</th>\n",
       "      <th>category</th>\n",
       "    </tr>\n",
       "  </thead>\n",
       "  <tbody>\n",
       "    <tr>\n",
       "      <th>1</th>\n",
       "      <td>International Journal of Applied Research &amp; St...</td>\n",
       "      <td>NaN</td>\n",
       "      <td>0.0</td>\n",
       "      <td>NaN</td>\n",
       "    </tr>\n",
       "    <tr>\n",
       "      <th>3</th>\n",
       "      <td>European Journal of Histochemistry</td>\n",
       "      <td>NaN</td>\n",
       "      <td>0.0</td>\n",
       "      <td>NaN</td>\n",
       "    </tr>\n",
       "    <tr>\n",
       "      <th>4</th>\n",
       "      <td>Species</td>\n",
       "      <td>Discovery Publication</td>\n",
       "      <td>0.0</td>\n",
       "      <td>NaN</td>\n",
       "    </tr>\n",
       "    <tr>\n",
       "      <th>6</th>\n",
       "      <td>Journal of Horticulture Letters</td>\n",
       "      <td>BioInfo Publications</td>\n",
       "      <td>0.0</td>\n",
       "      <td>NaN</td>\n",
       "    </tr>\n",
       "    <tr>\n",
       "      <th>7</th>\n",
       "      <td>HCTL Open International Journal of Technology ...</td>\n",
       "      <td>NaN</td>\n",
       "      <td>0.0</td>\n",
       "      <td>NaN</td>\n",
       "    </tr>\n",
       "    <tr>\n",
       "      <th>...</th>\n",
       "      <td>...</td>\n",
       "      <td>...</td>\n",
       "      <td>...</td>\n",
       "      <td>...</td>\n",
       "    </tr>\n",
       "    <tr>\n",
       "      <th>105487</th>\n",
       "      <td>anthropologie56</td>\n",
       "      <td>NaN</td>\n",
       "      <td>0.0</td>\n",
       "      <td>NaN</td>\n",
       "    </tr>\n",
       "    <tr>\n",
       "      <th>105488</th>\n",
       "      <td>anthropologie61</td>\n",
       "      <td>NaN</td>\n",
       "      <td>0.0</td>\n",
       "      <td>NaN</td>\n",
       "    </tr>\n",
       "    <tr>\n",
       "      <th>105492</th>\n",
       "      <td>anthropologie58</td>\n",
       "      <td>NaN</td>\n",
       "      <td>0.0</td>\n",
       "      <td>NaN</td>\n",
       "    </tr>\n",
       "    <tr>\n",
       "      <th>105493</th>\n",
       "      <td>anthropologie11</td>\n",
       "      <td>NaN</td>\n",
       "      <td>0.0</td>\n",
       "      <td>NaN</td>\n",
       "    </tr>\n",
       "    <tr>\n",
       "      <th>105494</th>\n",
       "      <td>anthropologie4</td>\n",
       "      <td>NaN</td>\n",
       "      <td>0.0</td>\n",
       "      <td>NaN</td>\n",
       "    </tr>\n",
       "  </tbody>\n",
       "</table>\n",
       "<p>50753 rows × 4 columns</p>\n",
       "</div>"
      ],
      "text/plain": [
       "                                             journal_name  \\\n",
       "1       International Journal of Applied Research & St...   \n",
       "3                      European Journal of Histochemistry   \n",
       "4                                                 Species   \n",
       "6                         Journal of Horticulture Letters   \n",
       "7       HCTL Open International Journal of Technology ...   \n",
       "...                                                   ...   \n",
       "105487                                    anthropologie56   \n",
       "105488                                    anthropologie61   \n",
       "105492                                    anthropologie58   \n",
       "105493                                    anthropologie11   \n",
       "105494                                     anthropologie4   \n",
       "\n",
       "                     pub_name  is_hybrid category  \n",
       "1                         NaN        0.0      NaN  \n",
       "3                         NaN        0.0      NaN  \n",
       "4       Discovery Publication        0.0      NaN  \n",
       "6        BioInfo Publications        0.0      NaN  \n",
       "7                         NaN        0.0      NaN  \n",
       "...                       ...        ...      ...  \n",
       "105487                    NaN        0.0      NaN  \n",
       "105488                    NaN        0.0      NaN  \n",
       "105492                    NaN        0.0      NaN  \n",
       "105493                    NaN        0.0      NaN  \n",
       "105494                    NaN        0.0      NaN  \n",
       "\n",
       "[50753 rows x 4 columns]"
      ]
     },
     "execution_count": 73,
     "metadata": {},
     "output_type": "execute_result"
    }
   ],
   "source": [
    "journals[journals['category'].isna() == True]"
   ]
  },
  {
   "cell_type": "code",
   "execution_count": 74,
   "metadata": {},
   "outputs": [],
   "source": [
    "journals = journals.drop((journals[journals['is_hybrid'] == 10]).index)"
   ]
  },
  {
   "cell_type": "code",
   "execution_count": 75,
   "metadata": {},
   "outputs": [
    {
     "data": {
      "text/plain": [
       "<matplotlib.axes._subplots.AxesSubplot at 0x15614e7a688>"
      ]
     },
     "execution_count": 75,
     "metadata": {},
     "output_type": "execute_result"
    },
    {
     "data": {
      "image/png": "[encoded data removed]",
      "text/plain": [
       "<Figure size 432x288 with 1 Axes>"
      ]
     },
     "metadata": {
      "needs_background": "light"
     },
     "output_type": "display_data"
    }
   ],
   "source": [
    "sns.countplot(data=journals, x = 'is_hybrid')"
   ]
  },
  {
   "cell_type": "markdown",
   "metadata": {},
   "source": [
    "### labeling NaN values for category column as \"not specified\""
   ]
  },
  {
   "cell_type": "code",
   "execution_count": 94,
   "metadata": {},
   "outputs": [],
   "source": [
    "journals['category'].fillna('Not Specified', inplace= True)"
   ]
  },
  {
   "cell_type": "code",
   "execution_count": 95,
   "metadata": {},
   "outputs": [
    {
     "data": {
      "text/html": [
       "<div>\n",
       "<style scoped>\n",
       "    .dataframe tbody tr th:only-of-type {\n",
       "        vertical-align: middle;\n",
       "    }\n",
       "\n",
       "    .dataframe tbody tr th {\n",
       "        vertical-align: top;\n",
       "    }\n",
       "\n",
       "    .dataframe thead th {\n",
       "        text-align: right;\n",
       "    }\n",
       "</style>\n",
       "<table border=\"1\" class=\"dataframe\">\n",
       "  <thead>\n",
       "    <tr style=\"text-align: right;\">\n",
       "      <th></th>\n",
       "      <th>journal_name</th>\n",
       "      <th>pub_name</th>\n",
       "      <th>is_hybrid</th>\n",
       "      <th>category</th>\n",
       "    </tr>\n",
       "  </thead>\n",
       "  <tbody>\n",
       "    <tr>\n",
       "      <th>0</th>\n",
       "      <td>Global Health Action</td>\n",
       "      <td>Co-Action Publishing</td>\n",
       "      <td>0.0</td>\n",
       "      <td>Medicine</td>\n",
       "    </tr>\n",
       "    <tr>\n",
       "      <th>1</th>\n",
       "      <td>International Journal of Applied Research &amp; St...</td>\n",
       "      <td>NaN</td>\n",
       "      <td>0.0</td>\n",
       "      <td>Not Specified</td>\n",
       "    </tr>\n",
       "    <tr>\n",
       "      <th>2</th>\n",
       "      <td>Fisioterapia Em Movimento</td>\n",
       "      <td>Pontif�cia Universidade Cat�lica do Paran�</td>\n",
       "      <td>0.0</td>\n",
       "      <td>Medicine</td>\n",
       "    </tr>\n",
       "    <tr>\n",
       "      <th>3</th>\n",
       "      <td>European Journal of Histochemistry</td>\n",
       "      <td>NaN</td>\n",
       "      <td>0.0</td>\n",
       "      <td>Not Specified</td>\n",
       "    </tr>\n",
       "    <tr>\n",
       "      <th>4</th>\n",
       "      <td>Species</td>\n",
       "      <td>Discovery Publication</td>\n",
       "      <td>0.0</td>\n",
       "      <td>Not Specified</td>\n",
       "    </tr>\n",
       "    <tr>\n",
       "      <th>...</th>\n",
       "      <td>...</td>\n",
       "      <td>...</td>\n",
       "      <td>...</td>\n",
       "      <td>...</td>\n",
       "    </tr>\n",
       "    <tr>\n",
       "      <th>105491</th>\n",
       "      <td>Automatica</td>\n",
       "      <td>Elsevier</td>\n",
       "      <td>0.0</td>\n",
       "      <td>RoBOTiCS</td>\n",
       "    </tr>\n",
       "    <tr>\n",
       "      <th>105492</th>\n",
       "      <td>anthropologie58</td>\n",
       "      <td>NaN</td>\n",
       "      <td>0.0</td>\n",
       "      <td>Not Specified</td>\n",
       "    </tr>\n",
       "    <tr>\n",
       "      <th>105493</th>\n",
       "      <td>anthropologie11</td>\n",
       "      <td>NaN</td>\n",
       "      <td>0.0</td>\n",
       "      <td>Not Specified</td>\n",
       "    </tr>\n",
       "    <tr>\n",
       "      <th>105494</th>\n",
       "      <td>anthropologie4</td>\n",
       "      <td>NaN</td>\n",
       "      <td>0.0</td>\n",
       "      <td>Not Specified</td>\n",
       "    </tr>\n",
       "    <tr>\n",
       "      <th>105495</th>\n",
       "      <td>Automatica</td>\n",
       "      <td>Elsevier</td>\n",
       "      <td>0.0</td>\n",
       "      <td>RoBOTiCS</td>\n",
       "    </tr>\n",
       "  </tbody>\n",
       "</table>\n",
       "<p>105452 rows × 4 columns</p>\n",
       "</div>"
      ],
      "text/plain": [
       "                                             journal_name  \\\n",
       "0                                    Global Health Action   \n",
       "1       International Journal of Applied Research & St...   \n",
       "2                               Fisioterapia Em Movimento   \n",
       "3                      European Journal of Histochemistry   \n",
       "4                                                 Species   \n",
       "...                                                   ...   \n",
       "105491                                         Automatica   \n",
       "105492                                    anthropologie58   \n",
       "105493                                    anthropologie11   \n",
       "105494                                     anthropologie4   \n",
       "105495                                         Automatica   \n",
       "\n",
       "                                          pub_name  is_hybrid       category  \n",
       "0                             Co-Action Publishing        0.0       Medicine  \n",
       "1                                              NaN        0.0  Not Specified  \n",
       "2       Pontif�cia Universidade Cat�lica do Paran�        0.0       Medicine  \n",
       "3                                              NaN        0.0  Not Specified  \n",
       "4                            Discovery Publication        0.0  Not Specified  \n",
       "...                                            ...        ...            ...  \n",
       "105491                                    Elsevier        0.0       RoBOTiCS  \n",
       "105492                                         NaN        0.0  Not Specified  \n",
       "105493                                         NaN        0.0  Not Specified  \n",
       "105494                                         NaN        0.0  Not Specified  \n",
       "105495                                    Elsevier        0.0       RoBOTiCS  \n",
       "\n",
       "[105452 rows x 4 columns]"
      ]
     },
     "execution_count": 95,
     "metadata": {},
     "output_type": "execute_result"
    }
   ],
   "source": [
    "journals"
   ]
  },
  {
   "cell_type": "code",
   "execution_count": 99,
   "metadata": {},
   "outputs": [],
   "source": [
    "journals['is_hybrid']= journals['is_hybrid'].astype(int)"
   ]
  },
  {
   "cell_type": "code",
   "execution_count": 101,
   "metadata": {},
   "outputs": [],
   "source": [
    "journals['pub_name'].fillna('Unknown', inplace= True)"
   ]
  },
  {
   "cell_type": "markdown",
   "metadata": {},
   "source": [
    "# Cleaned Journals"
   ]
  },
  {
   "cell_type": "code",
   "execution_count": 102,
   "metadata": {},
   "outputs": [
    {
     "data": {
      "text/html": [
       "<div>\n",
       "<style scoped>\n",
       "    .dataframe tbody tr th:only-of-type {\n",
       "        vertical-align: middle;\n",
       "    }\n",
       "\n",
       "    .dataframe tbody tr th {\n",
       "        vertical-align: top;\n",
       "    }\n",
       "\n",
       "    .dataframe thead th {\n",
       "        text-align: right;\n",
       "    }\n",
       "</style>\n",
       "<table border=\"1\" class=\"dataframe\">\n",
       "  <thead>\n",
       "    <tr style=\"text-align: right;\">\n",
       "      <th></th>\n",
       "      <th>journal_name</th>\n",
       "      <th>pub_name</th>\n",
       "      <th>is_hybrid</th>\n",
       "      <th>category</th>\n",
       "    </tr>\n",
       "  </thead>\n",
       "  <tbody>\n",
       "    <tr>\n",
       "      <th>0</th>\n",
       "      <td>Global Health Action</td>\n",
       "      <td>Co-Action Publishing</td>\n",
       "      <td>0</td>\n",
       "      <td>Medicine</td>\n",
       "    </tr>\n",
       "    <tr>\n",
       "      <th>1</th>\n",
       "      <td>International Journal of Applied Research &amp; St...</td>\n",
       "      <td>Unknown</td>\n",
       "      <td>0</td>\n",
       "      <td>Not Specified</td>\n",
       "    </tr>\n",
       "    <tr>\n",
       "      <th>2</th>\n",
       "      <td>Fisioterapia Em Movimento</td>\n",
       "      <td>Pontif�cia Universidade Cat�lica do Paran�</td>\n",
       "      <td>0</td>\n",
       "      <td>Medicine</td>\n",
       "    </tr>\n",
       "    <tr>\n",
       "      <th>3</th>\n",
       "      <td>European Journal of Histochemistry</td>\n",
       "      <td>Unknown</td>\n",
       "      <td>0</td>\n",
       "      <td>Not Specified</td>\n",
       "    </tr>\n",
       "    <tr>\n",
       "      <th>4</th>\n",
       "      <td>Species</td>\n",
       "      <td>Discovery Publication</td>\n",
       "      <td>0</td>\n",
       "      <td>Not Specified</td>\n",
       "    </tr>\n",
       "    <tr>\n",
       "      <th>...</th>\n",
       "      <td>...</td>\n",
       "      <td>...</td>\n",
       "      <td>...</td>\n",
       "      <td>...</td>\n",
       "    </tr>\n",
       "    <tr>\n",
       "      <th>105491</th>\n",
       "      <td>Automatica</td>\n",
       "      <td>Elsevier</td>\n",
       "      <td>0</td>\n",
       "      <td>RoBOTiCS</td>\n",
       "    </tr>\n",
       "    <tr>\n",
       "      <th>105492</th>\n",
       "      <td>anthropologie58</td>\n",
       "      <td>Unknown</td>\n",
       "      <td>0</td>\n",
       "      <td>Not Specified</td>\n",
       "    </tr>\n",
       "    <tr>\n",
       "      <th>105493</th>\n",
       "      <td>anthropologie11</td>\n",
       "      <td>Unknown</td>\n",
       "      <td>0</td>\n",
       "      <td>Not Specified</td>\n",
       "    </tr>\n",
       "    <tr>\n",
       "      <th>105494</th>\n",
       "      <td>anthropologie4</td>\n",
       "      <td>Unknown</td>\n",
       "      <td>0</td>\n",
       "      <td>Not Specified</td>\n",
       "    </tr>\n",
       "    <tr>\n",
       "      <th>105495</th>\n",
       "      <td>Automatica</td>\n",
       "      <td>Elsevier</td>\n",
       "      <td>0</td>\n",
       "      <td>RoBOTiCS</td>\n",
       "    </tr>\n",
       "  </tbody>\n",
       "</table>\n",
       "<p>105452 rows × 4 columns</p>\n",
       "</div>"
      ],
      "text/plain": [
       "                                             journal_name  \\\n",
       "0                                    Global Health Action   \n",
       "1       International Journal of Applied Research & St...   \n",
       "2                               Fisioterapia Em Movimento   \n",
       "3                      European Journal of Histochemistry   \n",
       "4                                                 Species   \n",
       "...                                                   ...   \n",
       "105491                                         Automatica   \n",
       "105492                                    anthropologie58   \n",
       "105493                                    anthropologie11   \n",
       "105494                                     anthropologie4   \n",
       "105495                                         Automatica   \n",
       "\n",
       "                                          pub_name  is_hybrid       category  \n",
       "0                             Co-Action Publishing          0       Medicine  \n",
       "1                                          Unknown          0  Not Specified  \n",
       "2       Pontif�cia Universidade Cat�lica do Paran�          0       Medicine  \n",
       "3                                          Unknown          0  Not Specified  \n",
       "4                            Discovery Publication          0  Not Specified  \n",
       "...                                            ...        ...            ...  \n",
       "105491                                    Elsevier          0       RoBOTiCS  \n",
       "105492                                     Unknown          0  Not Specified  \n",
       "105493                                     Unknown          0  Not Specified  \n",
       "105494                                     Unknown          0  Not Specified  \n",
       "105495                                    Elsevier          0       RoBOTiCS  \n",
       "\n",
       "[105452 rows x 4 columns]"
      ]
     },
     "execution_count": 102,
     "metadata": {},
     "output_type": "execute_result"
    }
   ],
   "source": [
    "journals"
   ]
  },
  {
   "cell_type": "code",
   "execution_count": 103,
   "metadata": {},
   "outputs": [
    {
     "name": "stdout",
     "output_type": "stream",
     "text": [
      "<class 'pandas.core.frame.DataFrame'>\n",
      "Int64Index: 105452 entries, 0 to 105495\n",
      "Data columns (total 4 columns):\n",
      " #   Column        Non-Null Count   Dtype \n",
      "---  ------        --------------   ----- \n",
      " 0   journal_name  105452 non-null  object\n",
      " 1   pub_name      105452 non-null  object\n",
      " 2   is_hybrid     105452 non-null  int32 \n",
      " 3   category      105452 non-null  object\n",
      "dtypes: int32(1), object(3)\n",
      "memory usage: 8.6+ MB\n"
     ]
    }
   ],
   "source": [
    "journals.info()"
   ]
  },
  {
   "cell_type": "markdown",
   "metadata": {},
   "source": [
    "# Cleaning Price"
   ]
  },
  {
   "cell_type": "code",
   "execution_count": 104,
   "metadata": {},
   "outputs": [
    {
     "data": {
      "text/html": [
       "<div>\n",
       "<style scoped>\n",
       "    .dataframe tbody tr th:only-of-type {\n",
       "        vertical-align: middle;\n",
       "    }\n",
       "\n",
       "    .dataframe tbody tr th {\n",
       "        vertical-align: top;\n",
       "    }\n",
       "\n",
       "    .dataframe thead th {\n",
       "        text-align: right;\n",
       "    }\n",
       "</style>\n",
       "<table border=\"1\" class=\"dataframe\">\n",
       "  <thead>\n",
       "    <tr style=\"text-align: right;\">\n",
       "      <th></th>\n",
       "      <th>id</th>\n",
       "      <th>price</th>\n",
       "      <th>date_stamp</th>\n",
       "      <th>journal_id</th>\n",
       "      <th>influence_id</th>\n",
       "      <th>url</th>\n",
       "      <th>license</th>\n",
       "    </tr>\n",
       "  </thead>\n",
       "  <tbody>\n",
       "    <tr>\n",
       "      <th>0</th>\n",
       "      <td>8691</td>\n",
       "      <td>1400.0</td>\n",
       "      <td>2016-08-11</td>\n",
       "      <td>2051-5960</td>\n",
       "      <td>NaN</td>\n",
       "      <td>NaN</td>\n",
       "      <td>NaN</td>\n",
       "    </tr>\n",
       "    <tr>\n",
       "      <th>1</th>\n",
       "      <td>8692</td>\n",
       "      <td>2175.0</td>\n",
       "      <td>2016-08-11</td>\n",
       "      <td>1758-9193</td>\n",
       "      <td>NaN</td>\n",
       "      <td>NaN</td>\n",
       "      <td>NaN</td>\n",
       "    </tr>\n",
       "    <tr>\n",
       "      <th>2</th>\n",
       "      <td>8693</td>\n",
       "      <td>2145.0</td>\n",
       "      <td>2016-08-11</td>\n",
       "      <td>1476-0711</td>\n",
       "      <td>NaN</td>\n",
       "      <td>NaN</td>\n",
       "      <td>NaN</td>\n",
       "    </tr>\n",
       "    <tr>\n",
       "      <th>3</th>\n",
       "      <td>8694</td>\n",
       "      <td>2145.0</td>\n",
       "      <td>2016-08-11</td>\n",
       "      <td>2047-2994</td>\n",
       "      <td>NaN</td>\n",
       "      <td>NaN</td>\n",
       "      <td>NaN</td>\n",
       "    </tr>\n",
       "    <tr>\n",
       "      <th>4</th>\n",
       "      <td>8695</td>\n",
       "      <td>2145.0</td>\n",
       "      <td>2016-08-11</td>\n",
       "      <td>1744-9081</td>\n",
       "      <td>NaN</td>\n",
       "      <td>NaN</td>\n",
       "      <td>NaN</td>\n",
       "    </tr>\n",
       "    <tr>\n",
       "      <th>...</th>\n",
       "      <td>...</td>\n",
       "      <td>...</td>\n",
       "      <td>...</td>\n",
       "      <td>...</td>\n",
       "      <td>...</td>\n",
       "      <td>...</td>\n",
       "      <td>...</td>\n",
       "    </tr>\n",
       "    <tr>\n",
       "      <th>7790</th>\n",
       "      <td>16482</td>\n",
       "      <td>80.0</td>\n",
       "      <td>2017-09-30</td>\n",
       "      <td>2456-1908</td>\n",
       "      <td>NaN</td>\n",
       "      <td>http://ijaers.com/payment-option/</td>\n",
       "      <td>9.0</td>\n",
       "    </tr>\n",
       "    <tr>\n",
       "      <th>7791</th>\n",
       "      <td>16483</td>\n",
       "      <td>85.0</td>\n",
       "      <td>2017-09-30</td>\n",
       "      <td>2350-0530</td>\n",
       "      <td>NaN</td>\n",
       "      <td>http://granthaalayah.com/Publication_Charges.html</td>\n",
       "      <td>1.0</td>\n",
       "    </tr>\n",
       "    <tr>\n",
       "      <th>7792</th>\n",
       "      <td>16484</td>\n",
       "      <td>800.0</td>\n",
       "      <td>2017-10-18</td>\n",
       "      <td>2251-3582</td>\n",
       "      <td>NaN</td>\n",
       "      <td>http://nursing.usp-pl.com/index.php/Nursing</td>\n",
       "      <td>2.0</td>\n",
       "    </tr>\n",
       "    <tr>\n",
       "      <th>7793</th>\n",
       "      <td>16485</td>\n",
       "      <td>75.0</td>\n",
       "      <td>2017-10-17</td>\n",
       "      <td>2250-3021</td>\n",
       "      <td>NaN</td>\n",
       "      <td>http://iosrjen.org/pages/faqs.html</td>\n",
       "      <td>10.0</td>\n",
       "    </tr>\n",
       "    <tr>\n",
       "      <th>7794</th>\n",
       "      <td>16486</td>\n",
       "      <td>0.0</td>\n",
       "      <td>2017-10-20</td>\n",
       "      <td>2211-2898</td>\n",
       "      <td>NaN</td>\n",
       "      <td>https://www.bmgn-lchr.nl/</td>\n",
       "      <td>2.0</td>\n",
       "    </tr>\n",
       "  </tbody>\n",
       "</table>\n",
       "<p>7795 rows × 7 columns</p>\n",
       "</div>"
      ],
      "text/plain": [
       "         id   price  date_stamp journal_id  influence_id  \\\n",
       "0      8691  1400.0  2016-08-11  2051-5960           NaN   \n",
       "1      8692  2175.0  2016-08-11  1758-9193           NaN   \n",
       "2      8693  2145.0  2016-08-11  1476-0711           NaN   \n",
       "3      8694  2145.0  2016-08-11  2047-2994           NaN   \n",
       "4      8695  2145.0  2016-08-11  1744-9081           NaN   \n",
       "...     ...     ...         ...        ...           ...   \n",
       "7790  16482    80.0  2017-09-30  2456-1908           NaN   \n",
       "7791  16483    85.0  2017-09-30  2350-0530           NaN   \n",
       "7792  16484   800.0  2017-10-18  2251-3582           NaN   \n",
       "7793  16485    75.0  2017-10-17  2250-3021           NaN   \n",
       "7794  16486     0.0  2017-10-20  2211-2898           NaN   \n",
       "\n",
       "                                                    url  license  \n",
       "0                                                   NaN      NaN  \n",
       "1                                                   NaN      NaN  \n",
       "2                                                   NaN      NaN  \n",
       "3                                                   NaN      NaN  \n",
       "4                                                   NaN      NaN  \n",
       "...                                                 ...      ...  \n",
       "7790                  http://ijaers.com/payment-option/      9.0  \n",
       "7791  http://granthaalayah.com/Publication_Charges.html      1.0  \n",
       "7792        http://nursing.usp-pl.com/index.php/Nursing      2.0  \n",
       "7793                 http://iosrjen.org/pages/faqs.html     10.0  \n",
       "7794                          https://www.bmgn-lchr.nl/      2.0  \n",
       "\n",
       "[7795 rows x 7 columns]"
      ]
     },
     "execution_count": 104,
     "metadata": {},
     "output_type": "execute_result"
    }
   ],
   "source": [
    "price"
   ]
  },
  {
   "cell_type": "code",
   "execution_count": 105,
   "metadata": {},
   "outputs": [
    {
     "name": "stdout",
     "output_type": "stream",
     "text": [
      "<class 'pandas.core.frame.DataFrame'>\n",
      "RangeIndex: 7795 entries, 0 to 7794\n",
      "Data columns (total 7 columns):\n",
      " #   Column        Non-Null Count  Dtype  \n",
      "---  ------        --------------  -----  \n",
      " 0   id            7795 non-null   int64  \n",
      " 1   price         7795 non-null   float64\n",
      " 2   date_stamp    7795 non-null   object \n",
      " 3   journal_id    7795 non-null   object \n",
      " 4   influence_id  759 non-null    float64\n",
      " 5   url           364 non-null    object \n",
      " 6   license       378 non-null    float64\n",
      "dtypes: float64(3), int64(1), object(3)\n",
      "memory usage: 426.4+ KB\n"
     ]
    }
   ],
   "source": [
    "price.info()"
   ]
  },
  {
   "cell_type": "code",
   "execution_count": 106,
   "metadata": {},
   "outputs": [
    {
     "data": {
      "text/html": [
       "<div>\n",
       "<style scoped>\n",
       "    .dataframe tbody tr th:only-of-type {\n",
       "        vertical-align: middle;\n",
       "    }\n",
       "\n",
       "    .dataframe tbody tr th {\n",
       "        vertical-align: top;\n",
       "    }\n",
       "\n",
       "    .dataframe thead th {\n",
       "        text-align: right;\n",
       "    }\n",
       "</style>\n",
       "<table border=\"1\" class=\"dataframe\">\n",
       "  <thead>\n",
       "    <tr style=\"text-align: right;\">\n",
       "      <th></th>\n",
       "      <th>id</th>\n",
       "      <th>price</th>\n",
       "      <th>influence_id</th>\n",
       "      <th>license</th>\n",
       "    </tr>\n",
       "  </thead>\n",
       "  <tbody>\n",
       "    <tr>\n",
       "      <th>count</th>\n",
       "      <td>7795.000000</td>\n",
       "      <td>7795.000000</td>\n",
       "      <td>759.000000</td>\n",
       "      <td>378.000000</td>\n",
       "    </tr>\n",
       "    <tr>\n",
       "      <th>mean</th>\n",
       "      <td>12588.002309</td>\n",
       "      <td>1273.908794</td>\n",
       "      <td>4570.260870</td>\n",
       "      <td>3.989418</td>\n",
       "    </tr>\n",
       "    <tr>\n",
       "      <th>std</th>\n",
       "      <td>2250.370998</td>\n",
       "      <td>1264.786225</td>\n",
       "      <td>583.092441</td>\n",
       "      <td>3.716034</td>\n",
       "    </tr>\n",
       "    <tr>\n",
       "      <th>min</th>\n",
       "      <td>8691.000000</td>\n",
       "      <td>0.000000</td>\n",
       "      <td>209.000000</td>\n",
       "      <td>1.000000</td>\n",
       "    </tr>\n",
       "    <tr>\n",
       "      <th>25%</th>\n",
       "      <td>10639.500000</td>\n",
       "      <td>0.000000</td>\n",
       "      <td>4324.500000</td>\n",
       "      <td>1.000000</td>\n",
       "    </tr>\n",
       "    <tr>\n",
       "      <th>50%</th>\n",
       "      <td>12588.000000</td>\n",
       "      <td>1000.000000</td>\n",
       "      <td>4571.000000</td>\n",
       "      <td>1.000000</td>\n",
       "    </tr>\n",
       "    <tr>\n",
       "      <th>75%</th>\n",
       "      <td>14536.500000</td>\n",
       "      <td>2580.000000</td>\n",
       "      <td>4937.500000</td>\n",
       "      <td>6.000000</td>\n",
       "    </tr>\n",
       "    <tr>\n",
       "      <th>max</th>\n",
       "      <td>16486.000000</td>\n",
       "      <td>7590.000000</td>\n",
       "      <td>5516.000000</td>\n",
       "      <td>10.000000</td>\n",
       "    </tr>\n",
       "  </tbody>\n",
       "</table>\n",
       "</div>"
      ],
      "text/plain": [
       "                 id        price  influence_id     license\n",
       "count   7795.000000  7795.000000    759.000000  378.000000\n",
       "mean   12588.002309  1273.908794   4570.260870    3.989418\n",
       "std     2250.370998  1264.786225    583.092441    3.716034\n",
       "min     8691.000000     0.000000    209.000000    1.000000\n",
       "25%    10639.500000     0.000000   4324.500000    1.000000\n",
       "50%    12588.000000  1000.000000   4571.000000    1.000000\n",
       "75%    14536.500000  2580.000000   4937.500000    6.000000\n",
       "max    16486.000000  7590.000000   5516.000000   10.000000"
      ]
     },
     "execution_count": 106,
     "metadata": {},
     "output_type": "execute_result"
    }
   ],
   "source": [
    "price.describe()"
   ]
  },
  {
   "cell_type": "code",
   "execution_count": 107,
   "metadata": {},
   "outputs": [],
   "source": [
    "price.dropna(axis = 1, thresh = len(price.index)*0.6, inplace= True)"
   ]
  },
  {
   "cell_type": "code",
   "execution_count": 108,
   "metadata": {},
   "outputs": [
    {
     "name": "stdout",
     "output_type": "stream",
     "text": [
      "<class 'pandas.core.frame.DataFrame'>\n",
      "RangeIndex: 7795 entries, 0 to 7794\n",
      "Data columns (total 4 columns):\n",
      " #   Column      Non-Null Count  Dtype  \n",
      "---  ------      --------------  -----  \n",
      " 0   id          7795 non-null   int64  \n",
      " 1   price       7795 non-null   float64\n",
      " 2   date_stamp  7795 non-null   object \n",
      " 3   journal_id  7795 non-null   object \n",
      "dtypes: float64(1), int64(1), object(2)\n",
      "memory usage: 243.7+ KB\n"
     ]
    }
   ],
   "source": [
    "price.info()"
   ]
  },
  {
   "cell_type": "code",
   "execution_count": 109,
   "metadata": {},
   "outputs": [
    {
     "data": {
      "text/html": [
       "<div>\n",
       "<style scoped>\n",
       "    .dataframe tbody tr th:only-of-type {\n",
       "        vertical-align: middle;\n",
       "    }\n",
       "\n",
       "    .dataframe tbody tr th {\n",
       "        vertical-align: top;\n",
       "    }\n",
       "\n",
       "    .dataframe thead th {\n",
       "        text-align: right;\n",
       "    }\n",
       "</style>\n",
       "<table border=\"1\" class=\"dataframe\">\n",
       "  <thead>\n",
       "    <tr style=\"text-align: right;\">\n",
       "      <th></th>\n",
       "      <th>id</th>\n",
       "      <th>price</th>\n",
       "      <th>date_stamp</th>\n",
       "      <th>journal_id</th>\n",
       "    </tr>\n",
       "  </thead>\n",
       "  <tbody>\n",
       "    <tr>\n",
       "      <th>0</th>\n",
       "      <td>8691</td>\n",
       "      <td>1400.0</td>\n",
       "      <td>2016-08-11</td>\n",
       "      <td>2051-5960</td>\n",
       "    </tr>\n",
       "    <tr>\n",
       "      <th>1</th>\n",
       "      <td>8692</td>\n",
       "      <td>2175.0</td>\n",
       "      <td>2016-08-11</td>\n",
       "      <td>1758-9193</td>\n",
       "    </tr>\n",
       "    <tr>\n",
       "      <th>2</th>\n",
       "      <td>8693</td>\n",
       "      <td>2145.0</td>\n",
       "      <td>2016-08-11</td>\n",
       "      <td>1476-0711</td>\n",
       "    </tr>\n",
       "    <tr>\n",
       "      <th>3</th>\n",
       "      <td>8694</td>\n",
       "      <td>2145.0</td>\n",
       "      <td>2016-08-11</td>\n",
       "      <td>2047-2994</td>\n",
       "    </tr>\n",
       "    <tr>\n",
       "      <th>4</th>\n",
       "      <td>8695</td>\n",
       "      <td>2145.0</td>\n",
       "      <td>2016-08-11</td>\n",
       "      <td>1744-9081</td>\n",
       "    </tr>\n",
       "    <tr>\n",
       "      <th>...</th>\n",
       "      <td>...</td>\n",
       "      <td>...</td>\n",
       "      <td>...</td>\n",
       "      <td>...</td>\n",
       "    </tr>\n",
       "    <tr>\n",
       "      <th>7790</th>\n",
       "      <td>16482</td>\n",
       "      <td>80.0</td>\n",
       "      <td>2017-09-30</td>\n",
       "      <td>2456-1908</td>\n",
       "    </tr>\n",
       "    <tr>\n",
       "      <th>7791</th>\n",
       "      <td>16483</td>\n",
       "      <td>85.0</td>\n",
       "      <td>2017-09-30</td>\n",
       "      <td>2350-0530</td>\n",
       "    </tr>\n",
       "    <tr>\n",
       "      <th>7792</th>\n",
       "      <td>16484</td>\n",
       "      <td>800.0</td>\n",
       "      <td>2017-10-18</td>\n",
       "      <td>2251-3582</td>\n",
       "    </tr>\n",
       "    <tr>\n",
       "      <th>7793</th>\n",
       "      <td>16485</td>\n",
       "      <td>75.0</td>\n",
       "      <td>2017-10-17</td>\n",
       "      <td>2250-3021</td>\n",
       "    </tr>\n",
       "    <tr>\n",
       "      <th>7794</th>\n",
       "      <td>16486</td>\n",
       "      <td>0.0</td>\n",
       "      <td>2017-10-20</td>\n",
       "      <td>2211-2898</td>\n",
       "    </tr>\n",
       "  </tbody>\n",
       "</table>\n",
       "<p>7795 rows × 4 columns</p>\n",
       "</div>"
      ],
      "text/plain": [
       "         id   price  date_stamp journal_id\n",
       "0      8691  1400.0  2016-08-11  2051-5960\n",
       "1      8692  2175.0  2016-08-11  1758-9193\n",
       "2      8693  2145.0  2016-08-11  1476-0711\n",
       "3      8694  2145.0  2016-08-11  2047-2994\n",
       "4      8695  2145.0  2016-08-11  1744-9081\n",
       "...     ...     ...         ...        ...\n",
       "7790  16482    80.0  2017-09-30  2456-1908\n",
       "7791  16483    85.0  2017-09-30  2350-0530\n",
       "7792  16484   800.0  2017-10-18  2251-3582\n",
       "7793  16485    75.0  2017-10-17  2250-3021\n",
       "7794  16486     0.0  2017-10-20  2211-2898\n",
       "\n",
       "[7795 rows x 4 columns]"
      ]
     },
     "execution_count": 109,
     "metadata": {},
     "output_type": "execute_result"
    }
   ],
   "source": [
    "price"
   ]
  },
  {
   "cell_type": "code",
   "execution_count": 111,
   "metadata": {},
   "outputs": [
    {
     "name": "stderr",
     "output_type": "stream",
     "text": [
      "c:\\program files\\python37\\lib\\site-packages\\ipykernel_launcher.py:3: SettingWithCopyWarning: \n",
      "A value is trying to be set on a copy of a slice from a DataFrame\n",
      "\n",
      "See the caveats in the documentation: https://pandas.pydata.org/pandas-docs/stable/user_guide/indexing.html#returning-a-view-versus-a-copy\n",
      "  This is separate from the ipykernel package so we can avoid doing imports until\n",
      "c:\\program files\\python37\\lib\\site-packages\\pandas\\core\\indexing.py:670: SettingWithCopyWarning: \n",
      "A value is trying to be set on a copy of a slice from a DataFrame\n",
      "\n",
      "See the caveats in the documentation: https://pandas.pydata.org/pandas-docs/stable/user_guide/indexing.html#returning-a-view-versus-a-copy\n",
      "  self._setitem_with_indexer(indexer, value)\n"
     ]
    }
   ],
   "source": [
    "for i,cost in enumerate(price['price']):\n",
    "    if int(cost) == 0:\n",
    "        price['price'][i] = 'FREE'"
   ]
  },
  {
   "cell_type": "code",
   "execution_count": 115,
   "metadata": {},
   "outputs": [],
   "source": [
    "price['id'] = price['id'].astype(str)"
   ]
  },
  {
   "cell_type": "markdown",
   "metadata": {},
   "source": [
    "# Cleaned Price"
   ]
  },
  {
   "cell_type": "code",
   "execution_count": 116,
   "metadata": {},
   "outputs": [
    {
     "data": {
      "text/html": [
       "<div>\n",
       "<style scoped>\n",
       "    .dataframe tbody tr th:only-of-type {\n",
       "        vertical-align: middle;\n",
       "    }\n",
       "\n",
       "    .dataframe tbody tr th {\n",
       "        vertical-align: top;\n",
       "    }\n",
       "\n",
       "    .dataframe thead th {\n",
       "        text-align: right;\n",
       "    }\n",
       "</style>\n",
       "<table border=\"1\" class=\"dataframe\">\n",
       "  <thead>\n",
       "    <tr style=\"text-align: right;\">\n",
       "      <th></th>\n",
       "      <th>id</th>\n",
       "      <th>price</th>\n",
       "      <th>date_stamp</th>\n",
       "      <th>journal_id</th>\n",
       "    </tr>\n",
       "  </thead>\n",
       "  <tbody>\n",
       "    <tr>\n",
       "      <th>0</th>\n",
       "      <td>8691</td>\n",
       "      <td>1400</td>\n",
       "      <td>2016-08-11</td>\n",
       "      <td>2051-5960</td>\n",
       "    </tr>\n",
       "    <tr>\n",
       "      <th>1</th>\n",
       "      <td>8692</td>\n",
       "      <td>2175</td>\n",
       "      <td>2016-08-11</td>\n",
       "      <td>1758-9193</td>\n",
       "    </tr>\n",
       "    <tr>\n",
       "      <th>2</th>\n",
       "      <td>8693</td>\n",
       "      <td>2145</td>\n",
       "      <td>2016-08-11</td>\n",
       "      <td>1476-0711</td>\n",
       "    </tr>\n",
       "    <tr>\n",
       "      <th>3</th>\n",
       "      <td>8694</td>\n",
       "      <td>2145</td>\n",
       "      <td>2016-08-11</td>\n",
       "      <td>2047-2994</td>\n",
       "    </tr>\n",
       "    <tr>\n",
       "      <th>4</th>\n",
       "      <td>8695</td>\n",
       "      <td>2145</td>\n",
       "      <td>2016-08-11</td>\n",
       "      <td>1744-9081</td>\n",
       "    </tr>\n",
       "    <tr>\n",
       "      <th>...</th>\n",
       "      <td>...</td>\n",
       "      <td>...</td>\n",
       "      <td>...</td>\n",
       "      <td>...</td>\n",
       "    </tr>\n",
       "    <tr>\n",
       "      <th>7790</th>\n",
       "      <td>16482</td>\n",
       "      <td>80</td>\n",
       "      <td>2017-09-30</td>\n",
       "      <td>2456-1908</td>\n",
       "    </tr>\n",
       "    <tr>\n",
       "      <th>7791</th>\n",
       "      <td>16483</td>\n",
       "      <td>85</td>\n",
       "      <td>2017-09-30</td>\n",
       "      <td>2350-0530</td>\n",
       "    </tr>\n",
       "    <tr>\n",
       "      <th>7792</th>\n",
       "      <td>16484</td>\n",
       "      <td>800</td>\n",
       "      <td>2017-10-18</td>\n",
       "      <td>2251-3582</td>\n",
       "    </tr>\n",
       "    <tr>\n",
       "      <th>7793</th>\n",
       "      <td>16485</td>\n",
       "      <td>75</td>\n",
       "      <td>2017-10-17</td>\n",
       "      <td>2250-3021</td>\n",
       "    </tr>\n",
       "    <tr>\n",
       "      <th>7794</th>\n",
       "      <td>16486</td>\n",
       "      <td>FREE</td>\n",
       "      <td>2017-10-20</td>\n",
       "      <td>2211-2898</td>\n",
       "    </tr>\n",
       "  </tbody>\n",
       "</table>\n",
       "<p>7795 rows × 4 columns</p>\n",
       "</div>"
      ],
      "text/plain": [
       "         id price  date_stamp journal_id\n",
       "0      8691  1400  2016-08-11  2051-5960\n",
       "1      8692  2175  2016-08-11  1758-9193\n",
       "2      8693  2145  2016-08-11  1476-0711\n",
       "3      8694  2145  2016-08-11  2047-2994\n",
       "4      8695  2145  2016-08-11  1744-9081\n",
       "...     ...   ...         ...        ...\n",
       "7790  16482    80  2017-09-30  2456-1908\n",
       "7791  16483    85  2017-09-30  2350-0530\n",
       "7792  16484   800  2017-10-18  2251-3582\n",
       "7793  16485    75  2017-10-17  2250-3021\n",
       "7794  16486  FREE  2017-10-20  2211-2898\n",
       "\n",
       "[7795 rows x 4 columns]"
      ]
     },
     "execution_count": 116,
     "metadata": {},
     "output_type": "execute_result"
    }
   ],
   "source": [
    "price"
   ]
  },
  {
   "cell_type": "code",
   "execution_count": 117,
   "metadata": {},
   "outputs": [
    {
     "name": "stdout",
     "output_type": "stream",
     "text": [
      "<class 'pandas.core.frame.DataFrame'>\n",
      "RangeIndex: 7795 entries, 0 to 7794\n",
      "Data columns (total 4 columns):\n",
      " #   Column      Non-Null Count  Dtype \n",
      "---  ------      --------------  ----- \n",
      " 0   id          7795 non-null   object\n",
      " 1   price       7795 non-null   object\n",
      " 2   date_stamp  7795 non-null   object\n",
      " 3   journal_id  7795 non-null   object\n",
      "dtypes: object(4)\n",
      "memory usage: 243.7+ KB\n"
     ]
    }
   ],
   "source": [
    "price.info()"
   ]
  },
  {
   "cell_type": "code",
   "execution_count": 118,
   "metadata": {},
   "outputs": [
    {
     "data": {
      "text/html": [
       "<div>\n",
       "<style scoped>\n",
       "    .dataframe tbody tr th:only-of-type {\n",
       "        vertical-align: middle;\n",
       "    }\n",
       "\n",
       "    .dataframe tbody tr th {\n",
       "        vertical-align: top;\n",
       "    }\n",
       "\n",
       "    .dataframe thead th {\n",
       "        text-align: right;\n",
       "    }\n",
       "</style>\n",
       "<table border=\"1\" class=\"dataframe\">\n",
       "  <thead>\n",
       "    <tr style=\"text-align: right;\">\n",
       "      <th></th>\n",
       "      <th>id</th>\n",
       "      <th>price</th>\n",
       "      <th>date_stamp</th>\n",
       "      <th>journal_id</th>\n",
       "    </tr>\n",
       "  </thead>\n",
       "  <tbody>\n",
       "    <tr>\n",
       "      <th>count</th>\n",
       "      <td>7795</td>\n",
       "      <td>7795</td>\n",
       "      <td>7795</td>\n",
       "      <td>7795</td>\n",
       "    </tr>\n",
       "    <tr>\n",
       "      <th>unique</th>\n",
       "      <td>7795</td>\n",
       "      <td>527</td>\n",
       "      <td>1472</td>\n",
       "      <td>5720</td>\n",
       "    </tr>\n",
       "    <tr>\n",
       "      <th>top</th>\n",
       "      <td>11155</td>\n",
       "      <td>FREE</td>\n",
       "      <td>2016-08-11</td>\n",
       "      <td>0365-0588</td>\n",
       "    </tr>\n",
       "    <tr>\n",
       "      <th>freq</th>\n",
       "      <td>1</td>\n",
       "      <td>3008</td>\n",
       "      <td>2666</td>\n",
       "      <td>7</td>\n",
       "    </tr>\n",
       "  </tbody>\n",
       "</table>\n",
       "</div>"
      ],
      "text/plain": [
       "           id price  date_stamp journal_id\n",
       "count    7795  7795        7795       7795\n",
       "unique   7795   527        1472       5720\n",
       "top     11155  FREE  2016-08-11  0365-0588\n",
       "freq        1  3008        2666          7"
      ]
     },
     "execution_count": 118,
     "metadata": {},
     "output_type": "execute_result"
    }
   ],
   "source": [
    "price.describe()"
   ]
  },
  {
   "cell_type": "code",
   "execution_count": null,
   "metadata": {},
   "outputs": [],
   "source": []
  }
 ],
 "metadata": {
  "kernelspec": {
   "display_name": "Python 3",
   "language": "python",
   "name": "python3"
  },
  "language_info": {
   "codemirror_mode": {
    "name": "ipython",
    "version": 3
   },
   "file_extension": ".py",
   "mimetype": "text/x-python",
   "name": "python",
   "nbconvert_exporter": "python",
   "pygments_lexer": "ipython3",
   "version": "3.7.6"
  }
 },
 "nbformat": 4,
 "nbformat_minor": 4
}
